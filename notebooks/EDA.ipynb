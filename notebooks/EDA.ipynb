{
  "nbformat": 4,
  "nbformat_minor": 0,
  "metadata": {
    "colab": {
      "provenance": [],
      "collapsed_sections": [],
      "toc_visible": true,
      "authorship_tag": "ABX9TyPDwtLUgtzZd7CNJMMIpVB7",
      "include_colab_link": true
    },
    "kernelspec": {
      "name": "python3",
      "display_name": "Python 3"
    },
    "language_info": {
      "name": "python"
    }
  },
  "cells": [
    {
      "cell_type": "markdown",
      "metadata": {
        "id": "view-in-github",
        "colab_type": "text"
      },
      "source": [
        "<a href=\"https://colab.research.google.com/github/Yanina-Kutovaya/RecSys-retail/blob/main/notebooks/EDA.ipynb\" target=\"_parent\"><img src=\"https://colab.research.google.com/assets/colab-badge.svg\" alt=\"Open In Colab\"/></a>"
      ]
    },
    {
      "cell_type": "code",
      "execution_count": 1,
      "metadata": {
        "id": "1d3SJy2XnUok"
      },
      "outputs": [],
      "source": [
        "import numpy as np\n",
        "import pandas as pd\n",
        "import matplotlib.pyplot as plt"
      ]
    },
    {
      "cell_type": "code",
      "source": [
        "import warnings\n",
        "warnings.filterwarnings(\"ignore\")"
      ],
      "metadata": {
        "id": "Mo-h9AM7VPqn"
      },
      "execution_count": 2,
      "outputs": []
    },
    {
      "cell_type": "markdown",
      "source": [
        "## 1. Data ingestion"
      ],
      "metadata": {
        "id": "wGpB-H66opRq"
      }
    },
    {
      "cell_type": "code",
      "source": [
        "TRAIN_URL = 'https://storage.yandexcloud.net/recsys-retail-input/train.csv.zip'\n",
        "TEST_URL = 'https://storage.yandexcloud.net/recsys-retail-input/test.csv'\n",
        "ITEM_FEATURES_URL = 'https://storage.yandexcloud.net/recsys-retail-input/item_features.csv'\n",
        "USER_FEATURES_URL = 'https://storage.yandexcloud.net/recsys-retail-input/user_features.csv'\n",
        "\n",
        "\n",
        "data = pd.read_csv(TRAIN_URL)\n",
        "test = pd.read_csv(TEST_URL)\n",
        "\n",
        "item_features = pd.read_csv(ITEM_FEATURES_URL)\n",
        "item_features.columns = map(str.lower, item_features.columns)\n",
        "item_features.rename(columns={'product_id': 'item_id'}, inplace=True)\n",
        "\n",
        "\n",
        "user_features = pd.read_csv(USER_FEATURES_URL)\n",
        "user_features.columns = map(str.lower, user_features.columns)\n",
        "user_features.rename(columns={'household_key': 'user_id'}, inplace=True)\n",
        "\n",
        "print(f'data.shape = {data.shape}')\n",
        "data.head(2)"
      ],
      "metadata": {
        "colab": {
          "base_uri": "https://localhost:8080/",
          "height": 129
        },
        "id": "dEX-kivbnV3v",
        "outputId": "eaaf6b44-83e1-478a-9b78-945754a875ff"
      },
      "execution_count": 3,
      "outputs": [
        {
          "output_type": "stream",
          "name": "stdout",
          "text": [
            "data.shape = (2396804, 12)\n"
          ]
        },
        {
          "output_type": "execute_result",
          "data": {
            "text/plain": [
              "   user_id    basket_id  day  item_id  quantity  sales_value  store_id  \\\n",
              "0     2375  26984851472    1  1004906         1         1.39       364   \n",
              "1     2375  26984851472    1  1033142         1         0.82       364   \n",
              "\n",
              "   retail_disc  trans_time  week_no  coupon_disc  coupon_match_disc  \n",
              "0         -0.6        1631        1          0.0                0.0  \n",
              "1          0.0        1631        1          0.0                0.0  "
            ],
            "text/html": [
              "\n",
              "  <div id=\"df-3a2bf486-e762-490f-a65d-0e1caab0b49e\">\n",
              "    <div class=\"colab-df-container\">\n",
              "      <div>\n",
              "<style scoped>\n",
              "    .dataframe tbody tr th:only-of-type {\n",
              "        vertical-align: middle;\n",
              "    }\n",
              "\n",
              "    .dataframe tbody tr th {\n",
              "        vertical-align: top;\n",
              "    }\n",
              "\n",
              "    .dataframe thead th {\n",
              "        text-align: right;\n",
              "    }\n",
              "</style>\n",
              "<table border=\"1\" class=\"dataframe\">\n",
              "  <thead>\n",
              "    <tr style=\"text-align: right;\">\n",
              "      <th></th>\n",
              "      <th>user_id</th>\n",
              "      <th>basket_id</th>\n",
              "      <th>day</th>\n",
              "      <th>item_id</th>\n",
              "      <th>quantity</th>\n",
              "      <th>sales_value</th>\n",
              "      <th>store_id</th>\n",
              "      <th>retail_disc</th>\n",
              "      <th>trans_time</th>\n",
              "      <th>week_no</th>\n",
              "      <th>coupon_disc</th>\n",
              "      <th>coupon_match_disc</th>\n",
              "    </tr>\n",
              "  </thead>\n",
              "  <tbody>\n",
              "    <tr>\n",
              "      <th>0</th>\n",
              "      <td>2375</td>\n",
              "      <td>26984851472</td>\n",
              "      <td>1</td>\n",
              "      <td>1004906</td>\n",
              "      <td>1</td>\n",
              "      <td>1.39</td>\n",
              "      <td>364</td>\n",
              "      <td>-0.6</td>\n",
              "      <td>1631</td>\n",
              "      <td>1</td>\n",
              "      <td>0.0</td>\n",
              "      <td>0.0</td>\n",
              "    </tr>\n",
              "    <tr>\n",
              "      <th>1</th>\n",
              "      <td>2375</td>\n",
              "      <td>26984851472</td>\n",
              "      <td>1</td>\n",
              "      <td>1033142</td>\n",
              "      <td>1</td>\n",
              "      <td>0.82</td>\n",
              "      <td>364</td>\n",
              "      <td>0.0</td>\n",
              "      <td>1631</td>\n",
              "      <td>1</td>\n",
              "      <td>0.0</td>\n",
              "      <td>0.0</td>\n",
              "    </tr>\n",
              "  </tbody>\n",
              "</table>\n",
              "</div>\n",
              "      <button class=\"colab-df-convert\" onclick=\"convertToInteractive('df-3a2bf486-e762-490f-a65d-0e1caab0b49e')\"\n",
              "              title=\"Convert this dataframe to an interactive table.\"\n",
              "              style=\"display:none;\">\n",
              "        \n",
              "  <svg xmlns=\"http://www.w3.org/2000/svg\" height=\"24px\"viewBox=\"0 0 24 24\"\n",
              "       width=\"24px\">\n",
              "    <path d=\"M0 0h24v24H0V0z\" fill=\"none\"/>\n",
              "    <path d=\"M18.56 5.44l.94 2.06.94-2.06 2.06-.94-2.06-.94-.94-2.06-.94 2.06-2.06.94zm-11 1L8.5 8.5l.94-2.06 2.06-.94-2.06-.94L8.5 2.5l-.94 2.06-2.06.94zm10 10l.94 2.06.94-2.06 2.06-.94-2.06-.94-.94-2.06-.94 2.06-2.06.94z\"/><path d=\"M17.41 7.96l-1.37-1.37c-.4-.4-.92-.59-1.43-.59-.52 0-1.04.2-1.43.59L10.3 9.45l-7.72 7.72c-.78.78-.78 2.05 0 2.83L4 21.41c.39.39.9.59 1.41.59.51 0 1.02-.2 1.41-.59l7.78-7.78 2.81-2.81c.8-.78.8-2.07 0-2.86zM5.41 20L4 18.59l7.72-7.72 1.47 1.35L5.41 20z\"/>\n",
              "  </svg>\n",
              "      </button>\n",
              "      \n",
              "  <style>\n",
              "    .colab-df-container {\n",
              "      display:flex;\n",
              "      flex-wrap:wrap;\n",
              "      gap: 12px;\n",
              "    }\n",
              "\n",
              "    .colab-df-convert {\n",
              "      background-color: #E8F0FE;\n",
              "      border: none;\n",
              "      border-radius: 50%;\n",
              "      cursor: pointer;\n",
              "      display: none;\n",
              "      fill: #1967D2;\n",
              "      height: 32px;\n",
              "      padding: 0 0 0 0;\n",
              "      width: 32px;\n",
              "    }\n",
              "\n",
              "    .colab-df-convert:hover {\n",
              "      background-color: #E2EBFA;\n",
              "      box-shadow: 0px 1px 2px rgba(60, 64, 67, 0.3), 0px 1px 3px 1px rgba(60, 64, 67, 0.15);\n",
              "      fill: #174EA6;\n",
              "    }\n",
              "\n",
              "    [theme=dark] .colab-df-convert {\n",
              "      background-color: #3B4455;\n",
              "      fill: #D2E3FC;\n",
              "    }\n",
              "\n",
              "    [theme=dark] .colab-df-convert:hover {\n",
              "      background-color: #434B5C;\n",
              "      box-shadow: 0px 1px 3px 1px rgba(0, 0, 0, 0.15);\n",
              "      filter: drop-shadow(0px 1px 2px rgba(0, 0, 0, 0.3));\n",
              "      fill: #FFFFFF;\n",
              "    }\n",
              "  </style>\n",
              "\n",
              "      <script>\n",
              "        const buttonEl =\n",
              "          document.querySelector('#df-3a2bf486-e762-490f-a65d-0e1caab0b49e button.colab-df-convert');\n",
              "        buttonEl.style.display =\n",
              "          google.colab.kernel.accessAllowed ? 'block' : 'none';\n",
              "\n",
              "        async function convertToInteractive(key) {\n",
              "          const element = document.querySelector('#df-3a2bf486-e762-490f-a65d-0e1caab0b49e');\n",
              "          const dataTable =\n",
              "            await google.colab.kernel.invokeFunction('convertToInteractive',\n",
              "                                                     [key], {});\n",
              "          if (!dataTable) return;\n",
              "\n",
              "          const docLinkHtml = 'Like what you see? Visit the ' +\n",
              "            '<a target=\"_blank\" href=https://colab.research.google.com/notebooks/data_table.ipynb>data table notebook</a>'\n",
              "            + ' to learn more about interactive tables.';\n",
              "          element.innerHTML = '';\n",
              "          dataTable['output_type'] = 'display_data';\n",
              "          await google.colab.output.renderOutput(dataTable, element);\n",
              "          const docLink = document.createElement('div');\n",
              "          docLink.innerHTML = docLinkHtml;\n",
              "          element.appendChild(docLink);\n",
              "        }\n",
              "      </script>\n",
              "    </div>\n",
              "  </div>\n",
              "  "
            ]
          },
          "metadata": {},
          "execution_count": 3
        }
      ]
    },
    {
      "cell_type": "code",
      "source": [
        "print(f'test.shape = {test.shape}')\n",
        "test.head(2)"
      ],
      "metadata": {
        "colab": {
          "base_uri": "https://localhost:8080/",
          "height": 129
        },
        "id": "NFub48wGoUGK",
        "outputId": "d7c32172-e01d-44eb-9dbe-6b27bdc3519b"
      },
      "execution_count": 4,
      "outputs": [
        {
          "output_type": "stream",
          "name": "stdout",
          "text": [
            "test.shape = (88734, 12)\n"
          ]
        },
        {
          "output_type": "execute_result",
          "data": {
            "text/plain": [
              "   user_id    basket_id  day  item_id  quantity  sales_value  store_id  \\\n",
              "0     1340  41652823310  664   912987         1         8.49       446   \n",
              "1      588  41652838477  664  1024426         1         6.29       388   \n",
              "\n",
              "   retail_disc  trans_time  week_no  coupon_disc  coupon_match_disc  \n",
              "0          0.0          52       96          0.0                0.0  \n",
              "1          0.0           8       96          0.0                0.0  "
            ],
            "text/html": [
              "\n",
              "  <div id=\"df-8ccb274f-fbc1-4b04-a68a-5fd0370a62ee\">\n",
              "    <div class=\"colab-df-container\">\n",
              "      <div>\n",
              "<style scoped>\n",
              "    .dataframe tbody tr th:only-of-type {\n",
              "        vertical-align: middle;\n",
              "    }\n",
              "\n",
              "    .dataframe tbody tr th {\n",
              "        vertical-align: top;\n",
              "    }\n",
              "\n",
              "    .dataframe thead th {\n",
              "        text-align: right;\n",
              "    }\n",
              "</style>\n",
              "<table border=\"1\" class=\"dataframe\">\n",
              "  <thead>\n",
              "    <tr style=\"text-align: right;\">\n",
              "      <th></th>\n",
              "      <th>user_id</th>\n",
              "      <th>basket_id</th>\n",
              "      <th>day</th>\n",
              "      <th>item_id</th>\n",
              "      <th>quantity</th>\n",
              "      <th>sales_value</th>\n",
              "      <th>store_id</th>\n",
              "      <th>retail_disc</th>\n",
              "      <th>trans_time</th>\n",
              "      <th>week_no</th>\n",
              "      <th>coupon_disc</th>\n",
              "      <th>coupon_match_disc</th>\n",
              "    </tr>\n",
              "  </thead>\n",
              "  <tbody>\n",
              "    <tr>\n",
              "      <th>0</th>\n",
              "      <td>1340</td>\n",
              "      <td>41652823310</td>\n",
              "      <td>664</td>\n",
              "      <td>912987</td>\n",
              "      <td>1</td>\n",
              "      <td>8.49</td>\n",
              "      <td>446</td>\n",
              "      <td>0.0</td>\n",
              "      <td>52</td>\n",
              "      <td>96</td>\n",
              "      <td>0.0</td>\n",
              "      <td>0.0</td>\n",
              "    </tr>\n",
              "    <tr>\n",
              "      <th>1</th>\n",
              "      <td>588</td>\n",
              "      <td>41652838477</td>\n",
              "      <td>664</td>\n",
              "      <td>1024426</td>\n",
              "      <td>1</td>\n",
              "      <td>6.29</td>\n",
              "      <td>388</td>\n",
              "      <td>0.0</td>\n",
              "      <td>8</td>\n",
              "      <td>96</td>\n",
              "      <td>0.0</td>\n",
              "      <td>0.0</td>\n",
              "    </tr>\n",
              "  </tbody>\n",
              "</table>\n",
              "</div>\n",
              "      <button class=\"colab-df-convert\" onclick=\"convertToInteractive('df-8ccb274f-fbc1-4b04-a68a-5fd0370a62ee')\"\n",
              "              title=\"Convert this dataframe to an interactive table.\"\n",
              "              style=\"display:none;\">\n",
              "        \n",
              "  <svg xmlns=\"http://www.w3.org/2000/svg\" height=\"24px\"viewBox=\"0 0 24 24\"\n",
              "       width=\"24px\">\n",
              "    <path d=\"M0 0h24v24H0V0z\" fill=\"none\"/>\n",
              "    <path d=\"M18.56 5.44l.94 2.06.94-2.06 2.06-.94-2.06-.94-.94-2.06-.94 2.06-2.06.94zm-11 1L8.5 8.5l.94-2.06 2.06-.94-2.06-.94L8.5 2.5l-.94 2.06-2.06.94zm10 10l.94 2.06.94-2.06 2.06-.94-2.06-.94-.94-2.06-.94 2.06-2.06.94z\"/><path d=\"M17.41 7.96l-1.37-1.37c-.4-.4-.92-.59-1.43-.59-.52 0-1.04.2-1.43.59L10.3 9.45l-7.72 7.72c-.78.78-.78 2.05 0 2.83L4 21.41c.39.39.9.59 1.41.59.51 0 1.02-.2 1.41-.59l7.78-7.78 2.81-2.81c.8-.78.8-2.07 0-2.86zM5.41 20L4 18.59l7.72-7.72 1.47 1.35L5.41 20z\"/>\n",
              "  </svg>\n",
              "      </button>\n",
              "      \n",
              "  <style>\n",
              "    .colab-df-container {\n",
              "      display:flex;\n",
              "      flex-wrap:wrap;\n",
              "      gap: 12px;\n",
              "    }\n",
              "\n",
              "    .colab-df-convert {\n",
              "      background-color: #E8F0FE;\n",
              "      border: none;\n",
              "      border-radius: 50%;\n",
              "      cursor: pointer;\n",
              "      display: none;\n",
              "      fill: #1967D2;\n",
              "      height: 32px;\n",
              "      padding: 0 0 0 0;\n",
              "      width: 32px;\n",
              "    }\n",
              "\n",
              "    .colab-df-convert:hover {\n",
              "      background-color: #E2EBFA;\n",
              "      box-shadow: 0px 1px 2px rgba(60, 64, 67, 0.3), 0px 1px 3px 1px rgba(60, 64, 67, 0.15);\n",
              "      fill: #174EA6;\n",
              "    }\n",
              "\n",
              "    [theme=dark] .colab-df-convert {\n",
              "      background-color: #3B4455;\n",
              "      fill: #D2E3FC;\n",
              "    }\n",
              "\n",
              "    [theme=dark] .colab-df-convert:hover {\n",
              "      background-color: #434B5C;\n",
              "      box-shadow: 0px 1px 3px 1px rgba(0, 0, 0, 0.15);\n",
              "      filter: drop-shadow(0px 1px 2px rgba(0, 0, 0, 0.3));\n",
              "      fill: #FFFFFF;\n",
              "    }\n",
              "  </style>\n",
              "\n",
              "      <script>\n",
              "        const buttonEl =\n",
              "          document.querySelector('#df-8ccb274f-fbc1-4b04-a68a-5fd0370a62ee button.colab-df-convert');\n",
              "        buttonEl.style.display =\n",
              "          google.colab.kernel.accessAllowed ? 'block' : 'none';\n",
              "\n",
              "        async function convertToInteractive(key) {\n",
              "          const element = document.querySelector('#df-8ccb274f-fbc1-4b04-a68a-5fd0370a62ee');\n",
              "          const dataTable =\n",
              "            await google.colab.kernel.invokeFunction('convertToInteractive',\n",
              "                                                     [key], {});\n",
              "          if (!dataTable) return;\n",
              "\n",
              "          const docLinkHtml = 'Like what you see? Visit the ' +\n",
              "            '<a target=\"_blank\" href=https://colab.research.google.com/notebooks/data_table.ipynb>data table notebook</a>'\n",
              "            + ' to learn more about interactive tables.';\n",
              "          element.innerHTML = '';\n",
              "          dataTable['output_type'] = 'display_data';\n",
              "          await google.colab.output.renderOutput(dataTable, element);\n",
              "          const docLink = document.createElement('div');\n",
              "          docLink.innerHTML = docLinkHtml;\n",
              "          element.appendChild(docLink);\n",
              "        }\n",
              "      </script>\n",
              "    </div>\n",
              "  </div>\n",
              "  "
            ]
          },
          "metadata": {},
          "execution_count": 4
        }
      ]
    },
    {
      "cell_type": "code",
      "source": [
        "print(f'item_features.shape = {item_features.shape}')\n",
        "item_features.head(2)"
      ],
      "metadata": {
        "colab": {
          "base_uri": "https://localhost:8080/",
          "height": 129
        },
        "id": "J2HJ8HGntKrp",
        "outputId": "3f1fedfd-43ed-4bba-adcd-5083ecd4343f"
      },
      "execution_count": 5,
      "outputs": [
        {
          "output_type": "stream",
          "name": "stdout",
          "text": [
            "item_features.shape = (92353, 7)\n"
          ]
        },
        {
          "output_type": "execute_result",
          "data": {
            "text/plain": [
              "   item_id  manufacturer    department     brand            commodity_desc  \\\n",
              "0    25671             2       GROCERY  National                  FRZN ICE   \n",
              "1    26081             2  MISC. TRANS.  National  NO COMMODITY DESCRIPTION   \n",
              "\n",
              "            sub_commodity_desc curr_size_of_product  \n",
              "0          ICE - CRUSHED/CUBED                22 LB  \n",
              "1  NO SUBCOMMODITY DESCRIPTION                       "
            ],
            "text/html": [
              "\n",
              "  <div id=\"df-dffea69d-e8e2-4d8c-bb6d-92cb67ac5578\">\n",
              "    <div class=\"colab-df-container\">\n",
              "      <div>\n",
              "<style scoped>\n",
              "    .dataframe tbody tr th:only-of-type {\n",
              "        vertical-align: middle;\n",
              "    }\n",
              "\n",
              "    .dataframe tbody tr th {\n",
              "        vertical-align: top;\n",
              "    }\n",
              "\n",
              "    .dataframe thead th {\n",
              "        text-align: right;\n",
              "    }\n",
              "</style>\n",
              "<table border=\"1\" class=\"dataframe\">\n",
              "  <thead>\n",
              "    <tr style=\"text-align: right;\">\n",
              "      <th></th>\n",
              "      <th>item_id</th>\n",
              "      <th>manufacturer</th>\n",
              "      <th>department</th>\n",
              "      <th>brand</th>\n",
              "      <th>commodity_desc</th>\n",
              "      <th>sub_commodity_desc</th>\n",
              "      <th>curr_size_of_product</th>\n",
              "    </tr>\n",
              "  </thead>\n",
              "  <tbody>\n",
              "    <tr>\n",
              "      <th>0</th>\n",
              "      <td>25671</td>\n",
              "      <td>2</td>\n",
              "      <td>GROCERY</td>\n",
              "      <td>National</td>\n",
              "      <td>FRZN ICE</td>\n",
              "      <td>ICE - CRUSHED/CUBED</td>\n",
              "      <td>22 LB</td>\n",
              "    </tr>\n",
              "    <tr>\n",
              "      <th>1</th>\n",
              "      <td>26081</td>\n",
              "      <td>2</td>\n",
              "      <td>MISC. TRANS.</td>\n",
              "      <td>National</td>\n",
              "      <td>NO COMMODITY DESCRIPTION</td>\n",
              "      <td>NO SUBCOMMODITY DESCRIPTION</td>\n",
              "      <td></td>\n",
              "    </tr>\n",
              "  </tbody>\n",
              "</table>\n",
              "</div>\n",
              "      <button class=\"colab-df-convert\" onclick=\"convertToInteractive('df-dffea69d-e8e2-4d8c-bb6d-92cb67ac5578')\"\n",
              "              title=\"Convert this dataframe to an interactive table.\"\n",
              "              style=\"display:none;\">\n",
              "        \n",
              "  <svg xmlns=\"http://www.w3.org/2000/svg\" height=\"24px\"viewBox=\"0 0 24 24\"\n",
              "       width=\"24px\">\n",
              "    <path d=\"M0 0h24v24H0V0z\" fill=\"none\"/>\n",
              "    <path d=\"M18.56 5.44l.94 2.06.94-2.06 2.06-.94-2.06-.94-.94-2.06-.94 2.06-2.06.94zm-11 1L8.5 8.5l.94-2.06 2.06-.94-2.06-.94L8.5 2.5l-.94 2.06-2.06.94zm10 10l.94 2.06.94-2.06 2.06-.94-2.06-.94-.94-2.06-.94 2.06-2.06.94z\"/><path d=\"M17.41 7.96l-1.37-1.37c-.4-.4-.92-.59-1.43-.59-.52 0-1.04.2-1.43.59L10.3 9.45l-7.72 7.72c-.78.78-.78 2.05 0 2.83L4 21.41c.39.39.9.59 1.41.59.51 0 1.02-.2 1.41-.59l7.78-7.78 2.81-2.81c.8-.78.8-2.07 0-2.86zM5.41 20L4 18.59l7.72-7.72 1.47 1.35L5.41 20z\"/>\n",
              "  </svg>\n",
              "      </button>\n",
              "      \n",
              "  <style>\n",
              "    .colab-df-container {\n",
              "      display:flex;\n",
              "      flex-wrap:wrap;\n",
              "      gap: 12px;\n",
              "    }\n",
              "\n",
              "    .colab-df-convert {\n",
              "      background-color: #E8F0FE;\n",
              "      border: none;\n",
              "      border-radius: 50%;\n",
              "      cursor: pointer;\n",
              "      display: none;\n",
              "      fill: #1967D2;\n",
              "      height: 32px;\n",
              "      padding: 0 0 0 0;\n",
              "      width: 32px;\n",
              "    }\n",
              "\n",
              "    .colab-df-convert:hover {\n",
              "      background-color: #E2EBFA;\n",
              "      box-shadow: 0px 1px 2px rgba(60, 64, 67, 0.3), 0px 1px 3px 1px rgba(60, 64, 67, 0.15);\n",
              "      fill: #174EA6;\n",
              "    }\n",
              "\n",
              "    [theme=dark] .colab-df-convert {\n",
              "      background-color: #3B4455;\n",
              "      fill: #D2E3FC;\n",
              "    }\n",
              "\n",
              "    [theme=dark] .colab-df-convert:hover {\n",
              "      background-color: #434B5C;\n",
              "      box-shadow: 0px 1px 3px 1px rgba(0, 0, 0, 0.15);\n",
              "      filter: drop-shadow(0px 1px 2px rgba(0, 0, 0, 0.3));\n",
              "      fill: #FFFFFF;\n",
              "    }\n",
              "  </style>\n",
              "\n",
              "      <script>\n",
              "        const buttonEl =\n",
              "          document.querySelector('#df-dffea69d-e8e2-4d8c-bb6d-92cb67ac5578 button.colab-df-convert');\n",
              "        buttonEl.style.display =\n",
              "          google.colab.kernel.accessAllowed ? 'block' : 'none';\n",
              "\n",
              "        async function convertToInteractive(key) {\n",
              "          const element = document.querySelector('#df-dffea69d-e8e2-4d8c-bb6d-92cb67ac5578');\n",
              "          const dataTable =\n",
              "            await google.colab.kernel.invokeFunction('convertToInteractive',\n",
              "                                                     [key], {});\n",
              "          if (!dataTable) return;\n",
              "\n",
              "          const docLinkHtml = 'Like what you see? Visit the ' +\n",
              "            '<a target=\"_blank\" href=https://colab.research.google.com/notebooks/data_table.ipynb>data table notebook</a>'\n",
              "            + ' to learn more about interactive tables.';\n",
              "          element.innerHTML = '';\n",
              "          dataTable['output_type'] = 'display_data';\n",
              "          await google.colab.output.renderOutput(dataTable, element);\n",
              "          const docLink = document.createElement('div');\n",
              "          docLink.innerHTML = docLinkHtml;\n",
              "          element.appendChild(docLink);\n",
              "        }\n",
              "      </script>\n",
              "    </div>\n",
              "  </div>\n",
              "  "
            ]
          },
          "metadata": {},
          "execution_count": 5
        }
      ]
    },
    {
      "cell_type": "code",
      "source": [
        "print(f'user_features .shape = {user_features.shape}')\n",
        "user_features.head(2)"
      ],
      "metadata": {
        "colab": {
          "base_uri": "https://localhost:8080/",
          "height": 129
        },
        "id": "mgIqGQfrtgFG",
        "outputId": "f2b55cd2-f1da-4e3e-ae3e-20b5b9843492"
      },
      "execution_count": 6,
      "outputs": [
        {
          "output_type": "stream",
          "name": "stdout",
          "text": [
            "user_features .shape = (801, 8)\n"
          ]
        },
        {
          "output_type": "execute_result",
          "data": {
            "text/plain": [
              "  age_desc marital_status_code income_desc homeowner_desc      hh_comp_desc  \\\n",
              "0      65+                   A      35-49K      Homeowner  2 Adults No Kids   \n",
              "1    45-54                   A      50-74K      Homeowner  2 Adults No Kids   \n",
              "\n",
              "  household_size_desc kid_category_desc  user_id  \n",
              "0                   2      None/Unknown        1  \n",
              "1                   2      None/Unknown        7  "
            ],
            "text/html": [
              "\n",
              "  <div id=\"df-8985cf19-ff4a-4b89-ac6b-f98cf4b91016\">\n",
              "    <div class=\"colab-df-container\">\n",
              "      <div>\n",
              "<style scoped>\n",
              "    .dataframe tbody tr th:only-of-type {\n",
              "        vertical-align: middle;\n",
              "    }\n",
              "\n",
              "    .dataframe tbody tr th {\n",
              "        vertical-align: top;\n",
              "    }\n",
              "\n",
              "    .dataframe thead th {\n",
              "        text-align: right;\n",
              "    }\n",
              "</style>\n",
              "<table border=\"1\" class=\"dataframe\">\n",
              "  <thead>\n",
              "    <tr style=\"text-align: right;\">\n",
              "      <th></th>\n",
              "      <th>age_desc</th>\n",
              "      <th>marital_status_code</th>\n",
              "      <th>income_desc</th>\n",
              "      <th>homeowner_desc</th>\n",
              "      <th>hh_comp_desc</th>\n",
              "      <th>household_size_desc</th>\n",
              "      <th>kid_category_desc</th>\n",
              "      <th>user_id</th>\n",
              "    </tr>\n",
              "  </thead>\n",
              "  <tbody>\n",
              "    <tr>\n",
              "      <th>0</th>\n",
              "      <td>65+</td>\n",
              "      <td>A</td>\n",
              "      <td>35-49K</td>\n",
              "      <td>Homeowner</td>\n",
              "      <td>2 Adults No Kids</td>\n",
              "      <td>2</td>\n",
              "      <td>None/Unknown</td>\n",
              "      <td>1</td>\n",
              "    </tr>\n",
              "    <tr>\n",
              "      <th>1</th>\n",
              "      <td>45-54</td>\n",
              "      <td>A</td>\n",
              "      <td>50-74K</td>\n",
              "      <td>Homeowner</td>\n",
              "      <td>2 Adults No Kids</td>\n",
              "      <td>2</td>\n",
              "      <td>None/Unknown</td>\n",
              "      <td>7</td>\n",
              "    </tr>\n",
              "  </tbody>\n",
              "</table>\n",
              "</div>\n",
              "      <button class=\"colab-df-convert\" onclick=\"convertToInteractive('df-8985cf19-ff4a-4b89-ac6b-f98cf4b91016')\"\n",
              "              title=\"Convert this dataframe to an interactive table.\"\n",
              "              style=\"display:none;\">\n",
              "        \n",
              "  <svg xmlns=\"http://www.w3.org/2000/svg\" height=\"24px\"viewBox=\"0 0 24 24\"\n",
              "       width=\"24px\">\n",
              "    <path d=\"M0 0h24v24H0V0z\" fill=\"none\"/>\n",
              "    <path d=\"M18.56 5.44l.94 2.06.94-2.06 2.06-.94-2.06-.94-.94-2.06-.94 2.06-2.06.94zm-11 1L8.5 8.5l.94-2.06 2.06-.94-2.06-.94L8.5 2.5l-.94 2.06-2.06.94zm10 10l.94 2.06.94-2.06 2.06-.94-2.06-.94-.94-2.06-.94 2.06-2.06.94z\"/><path d=\"M17.41 7.96l-1.37-1.37c-.4-.4-.92-.59-1.43-.59-.52 0-1.04.2-1.43.59L10.3 9.45l-7.72 7.72c-.78.78-.78 2.05 0 2.83L4 21.41c.39.39.9.59 1.41.59.51 0 1.02-.2 1.41-.59l7.78-7.78 2.81-2.81c.8-.78.8-2.07 0-2.86zM5.41 20L4 18.59l7.72-7.72 1.47 1.35L5.41 20z\"/>\n",
              "  </svg>\n",
              "      </button>\n",
              "      \n",
              "  <style>\n",
              "    .colab-df-container {\n",
              "      display:flex;\n",
              "      flex-wrap:wrap;\n",
              "      gap: 12px;\n",
              "    }\n",
              "\n",
              "    .colab-df-convert {\n",
              "      background-color: #E8F0FE;\n",
              "      border: none;\n",
              "      border-radius: 50%;\n",
              "      cursor: pointer;\n",
              "      display: none;\n",
              "      fill: #1967D2;\n",
              "      height: 32px;\n",
              "      padding: 0 0 0 0;\n",
              "      width: 32px;\n",
              "    }\n",
              "\n",
              "    .colab-df-convert:hover {\n",
              "      background-color: #E2EBFA;\n",
              "      box-shadow: 0px 1px 2px rgba(60, 64, 67, 0.3), 0px 1px 3px 1px rgba(60, 64, 67, 0.15);\n",
              "      fill: #174EA6;\n",
              "    }\n",
              "\n",
              "    [theme=dark] .colab-df-convert {\n",
              "      background-color: #3B4455;\n",
              "      fill: #D2E3FC;\n",
              "    }\n",
              "\n",
              "    [theme=dark] .colab-df-convert:hover {\n",
              "      background-color: #434B5C;\n",
              "      box-shadow: 0px 1px 3px 1px rgba(0, 0, 0, 0.15);\n",
              "      filter: drop-shadow(0px 1px 2px rgba(0, 0, 0, 0.3));\n",
              "      fill: #FFFFFF;\n",
              "    }\n",
              "  </style>\n",
              "\n",
              "      <script>\n",
              "        const buttonEl =\n",
              "          document.querySelector('#df-8985cf19-ff4a-4b89-ac6b-f98cf4b91016 button.colab-df-convert');\n",
              "        buttonEl.style.display =\n",
              "          google.colab.kernel.accessAllowed ? 'block' : 'none';\n",
              "\n",
              "        async function convertToInteractive(key) {\n",
              "          const element = document.querySelector('#df-8985cf19-ff4a-4b89-ac6b-f98cf4b91016');\n",
              "          const dataTable =\n",
              "            await google.colab.kernel.invokeFunction('convertToInteractive',\n",
              "                                                     [key], {});\n",
              "          if (!dataTable) return;\n",
              "\n",
              "          const docLinkHtml = 'Like what you see? Visit the ' +\n",
              "            '<a target=\"_blank\" href=https://colab.research.google.com/notebooks/data_table.ipynb>data table notebook</a>'\n",
              "            + ' to learn more about interactive tables.';\n",
              "          element.innerHTML = '';\n",
              "          dataTable['output_type'] = 'display_data';\n",
              "          await google.colab.output.renderOutput(dataTable, element);\n",
              "          const docLink = document.createElement('div');\n",
              "          docLink.innerHTML = docLinkHtml;\n",
              "          element.appendChild(docLink);\n",
              "        }\n",
              "      </script>\n",
              "    </div>\n",
              "  </div>\n",
              "  "
            ]
          },
          "metadata": {},
          "execution_count": 6
        }
      ]
    },
    {
      "cell_type": "markdown",
      "source": [
        "## 2. Data Pre-Filtering"
      ],
      "metadata": {
        "id": "XAnZnGQOleFt"
      }
    },
    {
      "cell_type": "markdown",
      "source": [
        "### 2.1. Number of items in train dataset"
      ],
      "metadata": {
        "id": "2T5N6KH2ynTY"
      }
    },
    {
      "cell_type": "code",
      "source": [
        "data['item_id'].nunique()"
      ],
      "metadata": {
        "colab": {
          "base_uri": "https://localhost:8080/"
        },
        "id": "-qBs9LXoyYQV",
        "outputId": "ee1d5338-cee8-46f4-aedf-20137dc179fb"
      },
      "execution_count": 7,
      "outputs": [
        {
          "output_type": "execute_result",
          "data": {
            "text/plain": [
              "89051"
            ]
          },
          "metadata": {},
          "execution_count": 7
        }
      ]
    },
    {
      "cell_type": "markdown",
      "source": [
        "### 2.2. Items that have not been sold for the last 12 months\n",
        "\n",
        "There is no need to recommend ites which have not been sold for the last 12 months"
      ],
      "metadata": {
        "id": "0wJJTnz_1kia"
      }
    },
    {
      "cell_type": "code",
      "source": [
        "t = max(data['day']) - 365\n",
        "\n",
        "not_sold_in_12_month = list(\n",
        "    set(data[data['day'] < t]['item_id'].unique()) - \\\n",
        "    set(data[data['day'] >= t]['item_id'].unique())\n",
        ")\n",
        "len(not_sold_in_12_month)"
      ],
      "metadata": {
        "colab": {
          "base_uri": "https://localhost:8080/"
        },
        "id": "6z4b-mVV11Yh",
        "outputId": "92de609e-f148-46c2-cb53-337c2f946dd0"
      },
      "execution_count": 8,
      "outputs": [
        {
          "output_type": "execute_result",
          "data": {
            "text/plain": [
              "20728"
            ]
          },
          "metadata": {},
          "execution_count": 8
        }
      ]
    },
    {
      "cell_type": "code",
      "source": [
        "data = data[~data['item_id'].isin(not_sold_in_12_month)]\n",
        "data['item_id'].nunique()"
      ],
      "metadata": {
        "colab": {
          "base_uri": "https://localhost:8080/"
        },
        "id": "54gbi8ii4QVT",
        "outputId": "9e8b2c0b-2fbd-424e-c7d6-31a6d1218d68"
      },
      "execution_count": 9,
      "outputs": [
        {
          "output_type": "execute_result",
          "data": {
            "text/plain": [
              "68323"
            ]
          },
          "metadata": {},
          "execution_count": 9
        }
      ]
    },
    {
      "cell_type": "markdown",
      "source": [
        "### 2.3. Top popular items\n",
        "\n",
        "There is no need to recommend top popular items - they will be bought anyway."
      ],
      "metadata": {
        "id": "gFHqj1BVvWuj"
      }
    },
    {
      "cell_type": "code",
      "source": [
        "popularity = (data.groupby('item_id')['user_id'].nunique() / data['user_id'].nunique()).reset_index()\n",
        "popularity.rename(columns={'user_id': 'share_unique_users'}, inplace=True)\n",
        "\n",
        "top_popular = popularity[popularity['share_unique_users'] > 0.2].item_id.tolist()\n",
        "len(top_popular)"
      ],
      "metadata": {
        "colab": {
          "base_uri": "https://localhost:8080/"
        },
        "id": "kNAEEBN88nqO",
        "outputId": "cdaab727-58c6-46ab-fff8-69655c0923da"
      },
      "execution_count": 10,
      "outputs": [
        {
          "output_type": "execute_result",
          "data": {
            "text/plain": [
              "125"
            ]
          },
          "metadata": {},
          "execution_count": 10
        }
      ]
    },
    {
      "cell_type": "code",
      "source": [
        "data = data[~data['item_id'].isin(top_popular)]\n",
        "data['item_id'].nunique()"
      ],
      "metadata": {
        "colab": {
          "base_uri": "https://localhost:8080/"
        },
        "id": "tOls0k884niw",
        "outputId": "02657365-3b5f-4f73-f0fe-abae12a4054c"
      },
      "execution_count": 11,
      "outputs": [
        {
          "output_type": "execute_result",
          "data": {
            "text/plain": [
              "68198"
            ]
          },
          "metadata": {},
          "execution_count": 11
        }
      ]
    },
    {
      "cell_type": "markdown",
      "source": [
        "### 2.4. Top unpopular items\n",
        "There is no need to recommend top unpopular items - nobody will buy them"
      ],
      "metadata": {
        "id": "30oqvxPZzHpf"
      }
    },
    {
      "cell_type": "code",
      "source": [
        "top_unpopular = popularity[popularity['share_unique_users'] < 0.02].item_id.tolist()\n",
        "len(top_unpopular)"
      ],
      "metadata": {
        "colab": {
          "base_uri": "https://localhost:8080/"
        },
        "id": "RZq0FBYjwlKO",
        "outputId": "f9a94397-976b-43df-eead-e7bde42f8248"
      },
      "execution_count": 12,
      "outputs": [
        {
          "output_type": "execute_result",
          "data": {
            "text/plain": [
              "61939"
            ]
          },
          "metadata": {},
          "execution_count": 12
        }
      ]
    },
    {
      "cell_type": "code",
      "source": [
        "data = data[~data['item_id'].isin(top_unpopular)]\n",
        "data['item_id'].nunique()"
      ],
      "metadata": {
        "colab": {
          "base_uri": "https://localhost:8080/"
        },
        "id": "EQZw8_Rh5Fje",
        "outputId": "126f4bd7-99ac-4998-ccdf-ba6404778fce"
      },
      "execution_count": 13,
      "outputs": [
        {
          "output_type": "execute_result",
          "data": {
            "text/plain": [
              "6259"
            ]
          },
          "metadata": {},
          "execution_count": 13
        }
      ]
    },
    {
      "cell_type": "markdown",
      "source": [
        "### 2.5. Unpopular departments\n",
        "\n",
        "There is no need to recommend unpopular departments"
      ],
      "metadata": {
        "id": "fXsBHbIk90q3"
      }
    },
    {
      "cell_type": "code",
      "source": [
        "department_size = (\n",
        "    item_features.groupby('department')['item_id'].nunique().sort_values(ascending=False)\n",
        ").reset_index()\n",
        "department_size.columns = ['department', 'n_items']\n",
        "\n",
        "unpopular_departments = department_size[department_size['n_items'] < 150].department.tolist()\n",
        "items_in_unpopular_departments = item_features[item_features['department'].isin(unpopular_departments)].item_id.unique().tolist()\n",
        "len(items_in_unpopular_departments)"
      ],
      "metadata": {
        "colab": {
          "base_uri": "https://localhost:8080/"
        },
        "id": "1IITAHNE-ot6",
        "outputId": "90599dbf-ee29-40a2-f2f3-7db20dab59aa"
      },
      "execution_count": 14,
      "outputs": [
        {
          "output_type": "execute_result",
          "data": {
            "text/plain": [
              "549"
            ]
          },
          "metadata": {},
          "execution_count": 14
        }
      ]
    },
    {
      "cell_type": "code",
      "source": [
        "data = data[~data['item_id'].isin(items_in_unpopular_departments)]\n",
        "data['item_id'].nunique()"
      ],
      "metadata": {
        "colab": {
          "base_uri": "https://localhost:8080/"
        },
        "id": "gtUqvxXv5Fni",
        "outputId": "8bf9ed4c-d5c1-4445-dcff-fcae66cad9e5"
      },
      "execution_count": 15,
      "outputs": [
        {
          "output_type": "execute_result",
          "data": {
            "text/plain": [
              "6232"
            ]
          },
          "metadata": {},
          "execution_count": 15
        }
      ]
    },
    {
      "cell_type": "markdown",
      "source": [
        "### 2.6. Price threshold\n",
        "There is no need to recommend too cheap items (we will not earn on them) and too expensive ites (they will be bought irrespective of our recommendations)."
      ],
      "metadata": {
        "id": "wlR7F1XdbPNe"
      }
    },
    {
      "cell_type": "code",
      "source": [
        "data['price'] = data['sales_value'] / (np.maximum(data['quantity'], 1))"
      ],
      "metadata": {
        "id": "IvKZvQbKbTYw"
      },
      "execution_count": 16,
      "outputs": []
    },
    {
      "cell_type": "markdown",
      "source": [
        "#### 2.6.1. Cheap items"
      ],
      "metadata": {
        "id": "Wa820mEsbZ7P"
      }
    },
    {
      "cell_type": "code",
      "source": [
        "lower_threshold = 1\n",
        "cheap_products = data.loc[data['price'] < lower_threshold, 'item_id'].unique().tolist()\n",
        "len(cheap_products)"
      ],
      "metadata": {
        "colab": {
          "base_uri": "https://localhost:8080/"
        },
        "id": "8F-2PxcBbTc4",
        "outputId": "8ae9efe2-53e3-4858-861c-a7d9e6c3e819"
      },
      "execution_count": 17,
      "outputs": [
        {
          "output_type": "execute_result",
          "data": {
            "text/plain": [
              "3497"
            ]
          },
          "metadata": {},
          "execution_count": 17
        }
      ]
    },
    {
      "cell_type": "code",
      "source": [
        "data = data[~data['item_id'].isin(cheap_products)]\n",
        "data['item_id'].nunique()"
      ],
      "metadata": {
        "colab": {
          "base_uri": "https://localhost:8080/"
        },
        "id": "LROq8tjGbTir",
        "outputId": "27fafb92-dcd6-458c-9a8f-97d67c876885"
      },
      "execution_count": 18,
      "outputs": [
        {
          "output_type": "execute_result",
          "data": {
            "text/plain": [
              "2735"
            ]
          },
          "metadata": {},
          "execution_count": 18
        }
      ]
    },
    {
      "cell_type": "markdown",
      "source": [
        "#### 2.6.2. Expensive items"
      ],
      "metadata": {
        "id": "4GzyUyjpbh5-"
      }
    },
    {
      "cell_type": "code",
      "source": [
        "plt.figure(figsize=(10, 4))\n",
        "plt.title('Price distribution')\n",
        "plt.xlabel('price')\n",
        "plt.hist(data['price'].values, bins=50);"
      ],
      "metadata": {
        "colab": {
          "base_uri": "https://localhost:8080/",
          "height": 295
        },
        "id": "zPEEgsg0bOiB",
        "outputId": "b0ef49f6-73cc-4a6e-95c2-574edb03fddf"
      },
      "execution_count": 19,
      "outputs": [
        {
          "output_type": "display_data",
          "data": {
            "text/plain": [
              "<Figure size 720x288 with 1 Axes>"
            ],
            "image/png": "[encoded data removed]"
          },
          "metadata": {
            "needs_background": "light"
          }
        }
      ]
    },
    {
      "cell_type": "code",
      "source": [
        "upper_threshold = 30\n",
        "expensive_products = data.loc[data['price'] > upper_threshold, 'item_id'].unique().tolist()\n",
        "len(expensive_products)"
      ],
      "metadata": {
        "colab": {
          "base_uri": "https://localhost:8080/"
        },
        "id": "7kdAiPAlbln8",
        "outputId": "2f7171fe-53b6-4f0a-f280-9f2b0bbea1e8"
      },
      "execution_count": 20,
      "outputs": [
        {
          "output_type": "execute_result",
          "data": {
            "text/plain": [
              "7"
            ]
          },
          "metadata": {},
          "execution_count": 20
        }
      ]
    },
    {
      "cell_type": "code",
      "source": [
        "data = data[~data['item_id'].isin(expensive_products)]\n",
        "data['item_id'].nunique()"
      ],
      "metadata": {
        "colab": {
          "base_uri": "https://localhost:8080/"
        },
        "id": "FMpbqpt4boQm",
        "outputId": "8b5e6252-e6ea-4369-c6e6-d1a1190cc09b"
      },
      "execution_count": 21,
      "outputs": [
        {
          "output_type": "execute_result",
          "data": {
            "text/plain": [
              "2728"
            ]
          },
          "metadata": {},
          "execution_count": 21
        }
      ]
    },
    {
      "cell_type": "markdown",
      "source": [
        "### 2.7. Select top 2500 popular items"
      ],
      "metadata": {
        "id": "_kmZ53ulgmrd"
      }
    },
    {
      "cell_type": "code",
      "source": [
        "take_n_popular = 2500\n",
        "popularity = data.groupby('item_id')['quantity'].sum().reset_index()\n",
        "popularity.rename(columns={'quantity': 'n_sold'}, inplace=True)\n",
        "\n",
        "top = popularity.sort_values('n_sold', ascending=False).head(take_n_popular).item_id.tolist()"
      ],
      "metadata": {
        "id": "9q7vbq0Tgidk"
      },
      "execution_count": 22,
      "outputs": []
    },
    {
      "cell_type": "markdown",
      "source": [
        "Introduce fake item_id = 999999 (if user has bought an item which is not from top-2500, he bought an item 999999)"
      ],
      "metadata": {
        "id": "Itgwz3gviYeK"
      }
    },
    {
      "cell_type": "code",
      "source": [
        "data.loc[~data['item_id'].isin(top), 'item_id'] = 999999\n",
        "data['item_id'].nunique()"
      ],
      "metadata": {
        "colab": {
          "base_uri": "https://localhost:8080/"
        },
        "id": "hP3rhWkIhoI-",
        "outputId": "05d9b3a6-26cf-499e-806e-befa9c5e5665"
      },
      "execution_count": 23,
      "outputs": [
        {
          "output_type": "execute_result",
          "data": {
            "text/plain": [
              "2501"
            ]
          },
          "metadata": {},
          "execution_count": 23
        }
      ]
    },
    {
      "cell_type": "markdown",
      "source": [
        "### 2.8. Train dataset shape after pre-filtering of data"
      ],
      "metadata": {
        "id": "dtY8NLrZWLTF"
      }
    },
    {
      "cell_type": "code",
      "source": [
        "data.shape"
      ],
      "metadata": {
        "colab": {
          "base_uri": "https://localhost:8080/"
        },
        "id": "aoR-bO_DV774",
        "outputId": "b15c81fd-c192-48f6-f2a8-545fe64c9999"
      },
      "execution_count": 24,
      "outputs": [
        {
          "output_type": "execute_result",
          "data": {
            "text/plain": [
              "(414502, 13)"
            ]
          },
          "metadata": {},
          "execution_count": 24
        }
      ]
    },
    {
      "cell_type": "markdown",
      "source": [
        "## 3. Train-validation-test time split for two-stage recommender system\n",
        "\n",
        "Train - validation - test schema:\n",
        "\n",
        "-- old purchases -- | -- 6 weeks-- | -- 3 weeks--\n",
        "\n"
      ],
      "metadata": {
        "id": "xYjvHUfimNt8"
      }
    },
    {
      "cell_type": "code",
      "source": [
        "val_lvl_1_size_weeks = 6\n",
        "val_lvl_2_size_weeks = 3\n",
        "\n",
        "t0 = data['week_no'].max() - (val_lvl_1_size_weeks + val_lvl_2_size_weeks)\n",
        "t1 = data['week_no'].max() - val_lvl_2_size_weeks\n",
        "t0, t1"
      ],
      "metadata": {
        "colab": {
          "base_uri": "https://localhost:8080/"
        },
        "id": "iz6rNuPKsTFU",
        "outputId": "5d49c507-b71d-439e-a931-ab340c499eff"
      },
      "execution_count": 25,
      "outputs": [
        {
          "output_type": "execute_result",
          "data": {
            "text/plain": [
              "(86, 92)"
            ]
          },
          "metadata": {},
          "execution_count": 25
        }
      ]
    },
    {
      "cell_type": "code",
      "source": [
        "data_train_lvl_1 = data[data['week_no'] < t0]\n",
        "data_val_lvl_1 = data[(data['week_no'] >= t0) & (data['week_no'] < t1)]\n",
        "\n",
        "data_train_lvl_2 = data_val_lvl_1.copy() \n",
        "data_val_lvl_2 = data[data['week_no'] >= t1]"
      ],
      "metadata": {
        "id": "3_2F4D5ovCY_"
      },
      "execution_count": 26,
      "outputs": []
    },
    {
      "cell_type": "markdown",
      "source": [
        "The new users on the validation and test sets"
      ],
      "metadata": {
        "id": "n5KP9W2kxJeT"
      }
    },
    {
      "cell_type": "code",
      "source": [
        "users_lvl_1 = data_train_lvl_1['user_id'].unique()\n",
        "users_lvl_2 = data_val_lvl_1['user_id'].unique()\n",
        "users_lvl_3 = data_val_lvl_2['user_id'].unique()\n",
        "\n",
        "new_users_lvl_2 = list(set(users_lvl_2) - set(users_lvl_1))\n",
        "new_users_lvl_3 = list(set(users_lvl_3) - (set(users_lvl_1) | set(users_lvl_2)))\n",
        "\n",
        "add_to_lvl_2 = list(set(users_lvl_3) - (set(users_lvl_2)))\n",
        "\n",
        "new_users_lvl_2, new_users_lvl_3, len(add_to_lvl_2)"
      ],
      "metadata": {
        "colab": {
          "base_uri": "https://localhost:8080/"
        },
        "id": "I8l5TcoAwjWr",
        "outputId": "33653e70-2636-4a61-c3a9-e7759f460136"
      },
      "execution_count": 27,
      "outputs": [
        {
          "output_type": "execute_result",
          "data": {
            "text/plain": [
              "([296, 1032, 1416, 1227, 1813], [1984, 1987, 1636, 2373, 2404, 2259], 165)"
            ]
          },
          "metadata": {},
          "execution_count": 27
        }
      ]
    },
    {
      "cell_type": "markdown",
      "source": [
        "## 4. User features  "
      ],
      "metadata": {
        "id": "GilxiygJyJJB"
      }
    },
    {
      "cell_type": "code",
      "source": [
        "user_features['user_id'].nunique()"
      ],
      "metadata": {
        "colab": {
          "base_uri": "https://localhost:8080/"
        },
        "id": "3zX_dviAjr1p",
        "outputId": "aebf40fb-4574-453a-d4f0-8068516dd472"
      },
      "execution_count": 28,
      "outputs": [
        {
          "output_type": "execute_result",
          "data": {
            "text/plain": [
              "801"
            ]
          },
          "metadata": {},
          "execution_count": 28
        }
      ]
    },
    {
      "cell_type": "markdown",
      "source": [
        "#### 4.1. Age"
      ],
      "metadata": {
        "id": "Ip8QzXEUWRvd"
      }
    },
    {
      "cell_type": "code",
      "source": [
        "user_features.groupby('age_desc')['user_id'].count()"
      ],
      "metadata": {
        "colab": {
          "base_uri": "https://localhost:8080/"
        },
        "id": "MqwCTn2CyYLc",
        "outputId": "dfb04479-603a-488f-c570-15a35f7a9585"
      },
      "execution_count": 29,
      "outputs": [
        {
          "output_type": "execute_result",
          "data": {
            "text/plain": [
              "age_desc\n",
              "19-24     46\n",
              "25-34    142\n",
              "35-44    194\n",
              "45-54    288\n",
              "55-64     59\n",
              "65+       72\n",
              "Name: user_id, dtype: int64"
            ]
          },
          "metadata": {},
          "execution_count": 29
        }
      ]
    },
    {
      "cell_type": "markdown",
      "source": [
        "#### 4.2 Marital status"
      ],
      "metadata": {
        "id": "AZrdOj9lWUu1"
      }
    },
    {
      "cell_type": "code",
      "source": [
        "user_features.groupby('marital_status_code')['user_id'].count()"
      ],
      "metadata": {
        "colab": {
          "base_uri": "https://localhost:8080/"
        },
        "id": "9OTJ4PbCy8-R",
        "outputId": "3f3401f3-26eb-45e1-bee6-33fd80464982"
      },
      "execution_count": 30,
      "outputs": [
        {
          "output_type": "execute_result",
          "data": {
            "text/plain": [
              "marital_status_code\n",
              "A    340\n",
              "B    117\n",
              "U    344\n",
              "Name: user_id, dtype: int64"
            ]
          },
          "metadata": {},
          "execution_count": 30
        }
      ]
    },
    {
      "cell_type": "markdown",
      "source": [
        "#### 4.3. Income"
      ],
      "metadata": {
        "id": "zFl0KhOJWd-G"
      }
    },
    {
      "cell_type": "code",
      "source": [
        "user_features['income_desc'].replace(\n",
        "    {'Under 15K': 10, '15-24K': 20, '25-34K':30, '35-49K': 40,\n",
        "     '50-74K': 62, '75-99K': 87, '100-124K': 112, '125-149K': 137, \n",
        "     '150-174K': 162, '175-199K': 187, '200-249K': 225, '250K+':275},\n",
        "     inplace=True\n",
        ")\n",
        "user_features.groupby('income_desc')['user_id'].count()"
      ],
      "metadata": {
        "colab": {
          "base_uri": "https://localhost:8080/"
        },
        "id": "pSqDYHVUzGOA",
        "outputId": "b813daae-08b9-4ba0-91d8-e612cb84e6ee"
      },
      "execution_count": 31,
      "outputs": [
        {
          "output_type": "execute_result",
          "data": {
            "text/plain": [
              "income_desc\n",
              "10      61\n",
              "20      74\n",
              "30      77\n",
              "40     172\n",
              "62     192\n",
              "87      96\n",
              "112     34\n",
              "137     38\n",
              "162     30\n",
              "187     11\n",
              "225      5\n",
              "275     11\n",
              "Name: user_id, dtype: int64"
            ]
          },
          "metadata": {},
          "execution_count": 31
        }
      ]
    },
    {
      "cell_type": "markdown",
      "source": [
        "#### 4.4. Homeowner description"
      ],
      "metadata": {
        "id": "iUND880DWh9S"
      }
    },
    {
      "cell_type": "code",
      "source": [
        "user_features.groupby('homeowner_desc')['user_id'].count()"
      ],
      "metadata": {
        "colab": {
          "base_uri": "https://localhost:8080/"
        },
        "id": "obzlEIxRzyYi",
        "outputId": "10170d3c-15a5-4d4d-9e3c-db5968c846a8"
      },
      "execution_count": 32,
      "outputs": [
        {
          "output_type": "execute_result",
          "data": {
            "text/plain": [
              "homeowner_desc\n",
              "Homeowner          504\n",
              "Probable Owner      11\n",
              "Probable Renter     11\n",
              "Renter              42\n",
              "Unknown            233\n",
              "Name: user_id, dtype: int64"
            ]
          },
          "metadata": {},
          "execution_count": 32
        }
      ]
    },
    {
      "cell_type": "markdown",
      "source": [
        "#### 4.5. Household description"
      ],
      "metadata": {
        "id": "6uHPmRsnWtuy"
      }
    },
    {
      "cell_type": "code",
      "source": [
        "user_features.groupby('hh_comp_desc')['user_id'].count()"
      ],
      "metadata": {
        "colab": {
          "base_uri": "https://localhost:8080/"
        },
        "id": "ExGlwniOz_y7",
        "outputId": "c6417b6f-6e98-4ef0-a454-7611fc217d51"
      },
      "execution_count": 33,
      "outputs": [
        {
          "output_type": "execute_result",
          "data": {
            "text/plain": [
              "hh_comp_desc\n",
              "1 Adult Kids         47\n",
              "2 Adults Kids       187\n",
              "2 Adults No Kids    255\n",
              "Single Female       144\n",
              "Single Male          95\n",
              "Unknown              73\n",
              "Name: user_id, dtype: int64"
            ]
          },
          "metadata": {},
          "execution_count": 33
        }
      ]
    },
    {
      "cell_type": "markdown",
      "source": [
        "#### 4.6. Household size"
      ],
      "metadata": {
        "id": "BozM1Gf2W9in"
      }
    },
    {
      "cell_type": "code",
      "source": [
        "user_features.groupby('household_size_desc')['user_id'].count()"
      ],
      "metadata": {
        "colab": {
          "base_uri": "https://localhost:8080/"
        },
        "id": "R83fzzqf0S5-",
        "outputId": "4ebc9ff1-ecc7-4e20-c021-49abe67499a5"
      },
      "execution_count": 34,
      "outputs": [
        {
          "output_type": "execute_result",
          "data": {
            "text/plain": [
              "household_size_desc\n",
              "1     255\n",
              "2     318\n",
              "3     109\n",
              "4      53\n",
              "5+     66\n",
              "Name: user_id, dtype: int64"
            ]
          },
          "metadata": {},
          "execution_count": 34
        }
      ]
    },
    {
      "cell_type": "markdown",
      "source": [
        "#### 4.7. The number of children"
      ],
      "metadata": {
        "id": "LFJ6i7CQXFQX"
      }
    },
    {
      "cell_type": "code",
      "source": [
        "user_features.groupby('kid_category_desc')['user_id'].count()"
      ],
      "metadata": {
        "colab": {
          "base_uri": "https://localhost:8080/"
        },
        "id": "kI8yKJ930eRW",
        "outputId": "863060e0-1434-4197-a922-5e9fa679e19a"
      },
      "execution_count": 35,
      "outputs": [
        {
          "output_type": "execute_result",
          "data": {
            "text/plain": [
              "kid_category_desc\n",
              "1               114\n",
              "2                60\n",
              "3+               69\n",
              "None/Unknown    558\n",
              "Name: user_id, dtype: int64"
            ]
          },
          "metadata": {},
          "execution_count": 35
        }
      ]
    },
    {
      "cell_type": "markdown",
      "source": [
        "## 5. Item features"
      ],
      "metadata": {
        "id": "wefwK9mI1Gr1"
      }
    },
    {
      "cell_type": "code",
      "source": [
        "item_features['item_id'].nunique()"
      ],
      "metadata": {
        "colab": {
          "base_uri": "https://localhost:8080/"
        },
        "id": "ZOLSRoG3kJ6G",
        "outputId": "7913f251-56a1-4d26-cc89-96ea97aeeb8e"
      },
      "execution_count": 36,
      "outputs": [
        {
          "output_type": "execute_result",
          "data": {
            "text/plain": [
              "92353"
            ]
          },
          "metadata": {},
          "execution_count": 36
        }
      ]
    },
    {
      "cell_type": "markdown",
      "source": [
        "#### 5.1. Manufacturer"
      ],
      "metadata": {
        "id": "VbNoxH6lVd_r"
      }
    },
    {
      "cell_type": "code",
      "source": [
        "item_features['manufacturer'].value_counts().head(20)"
      ],
      "metadata": {
        "colab": {
          "base_uri": "https://localhost:8080/"
        },
        "id": "F3trKD7f1TTf",
        "outputId": "444629e0-0116-45fe-8900-42fe45a1d31f"
      },
      "execution_count": null,
      "outputs": [
        {
          "output_type": "execute_result",
          "data": {
            "text/plain": [
              "69      12676\n",
              "2        1411\n",
              "5423     1376\n",
              "764      1332\n",
              "1407     1210\n",
              "693       979\n",
              "544       915\n",
              "5143      771\n",
              "1046      717\n",
              "1251      685\n",
              "673       682\n",
              "317       669\n",
              "895       642\n",
              "194       641\n",
              "1628      589\n",
              "103       535\n",
              "177       532\n",
              "958       526\n",
              "857       512\n",
              "1075      490\n",
              "Name: manufacturer, dtype: int64"
            ]
          },
          "metadata": {},
          "execution_count": 84
        }
      ]
    },
    {
      "cell_type": "markdown",
      "source": [
        "#### 5.2. Department"
      ],
      "metadata": {
        "id": "UAHs8M-aVnEo"
      }
    },
    {
      "cell_type": "code",
      "source": [
        "department = item_features['department'].value_counts()\n",
        "department[department >= 150]"
      ],
      "metadata": {
        "colab": {
          "base_uri": "https://localhost:8080/"
        },
        "id": "yFOBw_2617g8",
        "outputId": "51252399-f112-4f81-bcf4-760539e8b90e"
      },
      "execution_count": 37,
      "outputs": [
        {
          "output_type": "execute_result",
          "data": {
            "text/plain": [
              "GROCERY          39021\n",
              "DRUG GM          31529\n",
              "PRODUCE           3118\n",
              "COSMETICS         3011\n",
              "NUTRITION         2914\n",
              "MEAT              2544\n",
              "MEAT-PCKGD        2427\n",
              "DELI              2354\n",
              "PASTRY            2149\n",
              "FLORAL             938\n",
              "SEAFOOD-PCKGD      563\n",
              "MISC. TRANS.       490\n",
              "SPIRITS            377\n",
              "SEAFOOD            369\n",
              "Name: department, dtype: int64"
            ]
          },
          "metadata": {},
          "execution_count": 37
        }
      ]
    },
    {
      "cell_type": "markdown",
      "source": [
        "#### 5.3. Brand"
      ],
      "metadata": {
        "id": "lrURjxHHVv-J"
      }
    },
    {
      "cell_type": "code",
      "source": [
        "item_features['brand'].value_counts()"
      ],
      "metadata": {
        "colab": {
          "base_uri": "https://localhost:8080/"
        },
        "id": "73rsa-dB2keI",
        "outputId": "ba57bdd3-6309-46eb-d3df-39310d527c36"
      },
      "execution_count": 38,
      "outputs": [
        {
          "output_type": "execute_result",
          "data": {
            "text/plain": [
              "National    78537\n",
              "Private     13816\n",
              "Name: brand, dtype: int64"
            ]
          },
          "metadata": {},
          "execution_count": 38
        }
      ]
    },
    {
      "cell_type": "markdown",
      "source": [
        "#### 5.4. Commodity description"
      ],
      "metadata": {
        "id": "8IMZH1lUV032"
      }
    },
    {
      "cell_type": "code",
      "source": [
        "item_features['commodity_desc'].value_counts().head(20)"
      ],
      "metadata": {
        "colab": {
          "base_uri": "https://localhost:8080/"
        },
        "id": "ELHuh0tq3KjV",
        "outputId": "ad0b41df-8e97-4066-d0c1-9ec679e876ae"
      },
      "execution_count": 39,
      "outputs": [
        {
          "output_type": "execute_result",
          "data": {
            "text/plain": [
              "GREETING CARDS/WRAP/PARTY SPLY    2785\n",
              "CANDY - PACKAGED                  2475\n",
              "MAKEUP AND TREATMENT              2467\n",
              "HAIR CARE PRODUCTS                1744\n",
              "SOFT DRINKS                       1704\n",
              "BAG SNACKS                        1523\n",
              "HISPANIC                          1460\n",
              "FRZN MEAT/MEAT DINNERS            1268\n",
              "STATIONERY & SCHOOL SUPPLIES      1261\n",
              "MAGAZINE                          1224\n",
              "BAKED BREAD/BUNS/ROLLS            1169\n",
              "BOOKSTORE                         1134\n",
              "BEEF                              1109\n",
              "CHEESE                            1096\n",
              "DOMESTIC WINE                      996\n",
              "SOUP                               978\n",
              "COOKIES/CONES                      951\n",
              "ORAL HYGIENE PRODUCTS              913\n",
              "FROZEN PIZZA                       901\n",
              "CHRISTMAS  SEASONAL                866\n",
              "Name: commodity_desc, dtype: int64"
            ]
          },
          "metadata": {},
          "execution_count": 39
        }
      ]
    },
    {
      "cell_type": "markdown",
      "source": [
        "#### 5.5. Sub commodity description"
      ],
      "metadata": {
        "id": "SNQzgxjBV97K"
      }
    },
    {
      "cell_type": "code",
      "source": [
        "item_features['sub_commodity_desc'].value_counts().head(15)"
      ],
      "metadata": {
        "colab": {
          "base_uri": "https://localhost:8080/"
        },
        "id": "Ausgds_C3wYW",
        "outputId": "5d8273c7-720d-4a8a-9fe5-1c42c44a7516"
      },
      "execution_count": 40,
      "outputs": [
        {
          "output_type": "execute_result",
          "data": {
            "text/plain": [
              "CARDS EVERYDAY                   1005\n",
              "BEERALEMALT LIQUORS               833\n",
              "SPICES & SEASONINGS               629\n",
              "GIFT-WRAP EVERYDAY                547\n",
              "POTATO CHIPS                      531\n",
              "MAYBELLINE                        525\n",
              "SHAMPOO                           518\n",
              "COVERGIRL                         517\n",
              "YOGURT NOT MULTI-PACKS            512\n",
              "PREMIUM                           495\n",
              "POURABLE SALAD DRESSINGS          462\n",
              "CARDS SEASONAL                    456\n",
              "SEASONAL CANDY BAGS-CHOCOLATE     445\n",
              "NO SUBCOMMODITY DESCRIPTION       429\n",
              "CANDY BAGS-CHOCOCLATE             412\n",
              "Name: sub_commodity_desc, dtype: int64"
            ]
          },
          "metadata": {},
          "execution_count": 40
        }
      ]
    },
    {
      "cell_type": "markdown",
      "source": [
        "#### 5.6. Size of product"
      ],
      "metadata": {
        "id": "GFetlHHaWF3e"
      }
    },
    {
      "cell_type": "code",
      "source": [
        "item_features['curr_size_of_product'].value_counts().head(15)"
      ],
      "metadata": {
        "colab": {
          "base_uri": "https://localhost:8080/"
        },
        "id": "1YuTRoY34CTY",
        "outputId": "8f577096-669e-4127-fa20-d7900f4db25b"
      },
      "execution_count": 41,
      "outputs": [
        {
          "output_type": "execute_result",
          "data": {
            "text/plain": [
              "          30607\n",
              "16 OZ      3924\n",
              "12 OZ      3473\n",
              "8 OZ       2363\n",
              "6 OZ       1697\n",
              "10 OZ      1512\n",
              "750 ML     1259\n",
              "15 OZ      1226\n",
              "24 OZ      1141\n",
              "32 OZ      1011\n",
              "4 OZ        967\n",
              "20 OZ       939\n",
              "14 OZ       903\n",
              "9 OZ        894\n",
              "18 OZ       771\n",
              "Name: curr_size_of_product, dtype: int64"
            ]
          },
          "metadata": {},
          "execution_count": 41
        }
      ]
    },
    {
      "cell_type": "markdown",
      "source": [
        "## 6. User features based on the transaction matrix"
      ],
      "metadata": {
        "id": "Q4bvFO_zEi13"
      }
    },
    {
      "cell_type": "markdown",
      "source": [
        "#### 6.1. Median purchase hour"
      ],
      "metadata": {
        "id": "5anPYEdDFkXM"
      }
    },
    {
      "cell_type": "code",
      "source": [
        "X = data_train_lvl_1.copy()\n",
        "X['hour'] = X['trans_time'] // 100\n",
        "df = X.groupby(['user_id'])['hour'].median().reset_index()\n",
        "\n",
        "plt.figure(figsize=(10, 4))\n",
        "plt.title('Median purchase hour')\n",
        "plt.xlabel('hours')\n",
        "plt.hist(df['hour'], bins=24);"
      ],
      "metadata": {
        "colab": {
          "base_uri": "https://localhost:8080/",
          "height": 295
        },
        "id": "qDYZsks1-lW-",
        "outputId": "311b5221-329c-4385-fe04-88f033408820"
      },
      "execution_count": 42,
      "outputs": [
        {
          "output_type": "display_data",
          "data": {
            "text/plain": [
              "<Figure size 720x288 with 1 Axes>"
            ],
            "image/png": "[encoded data removed]"
          },
          "metadata": {
            "needs_background": "light"
          }
        }
      ]
    },
    {
      "cell_type": "markdown",
      "source": [
        "#### 6.2. Median purchase weekday"
      ],
      "metadata": {
        "id": "rdV2NlmHGhk0"
      }
    },
    {
      "cell_type": "code",
      "source": [
        "X['weekday'] = X['day'] % 7\n",
        "df = X.groupby(['user_id', 'item_id'])['weekday'].median().reset_index()\n",
        "df.columns = ['user_id', 'item_id', 'median_weekday']\n",
        "\n",
        "plt.figure(figsize=(10, 4))\n",
        "plt.title('Median purchase weekday')\n",
        "plt.xlabel('weekday')\n",
        "plt.hist(df['median_weekday'], bins=7);"
      ],
      "metadata": {
        "colab": {
          "base_uri": "https://localhost:8080/",
          "height": 295
        },
        "id": "jePnHtRZGKyJ",
        "outputId": "8b9f32a8-151a-4096-a4c4-cce90d2d75d4"
      },
      "execution_count": 43,
      "outputs": [
        {
          "output_type": "display_data",
          "data": {
            "text/plain": [
              "<Figure size 720x288 with 1 Axes>"
            ],
            "image/png": "[encoded data removed]"
          },
          "metadata": {
            "needs_background": "light"
          }
        }
      ]
    },
    {
      "cell_type": "markdown",
      "source": [
        "#### 6.3. Mean number of days between purchases"
      ],
      "metadata": {
        "id": "npTIFXOxHQ0E"
      }
    },
    {
      "cell_type": "code",
      "source": [
        "df = X.groupby('user_id')['day'].nunique().reset_index()\n",
        "df['mean_visits_interval'] = (X.groupby('user_id')['day'].max() - X.groupby('user_id')['day'].min()) / df['day']\n",
        "\n",
        "plt.figure(figsize=(10, 4))\n",
        "plt.title('Mean number of days between purchases')\n",
        "plt.xlabel('number of days')\n",
        "plt.hist(df['mean_visits_interval'], bins=100);"
      ],
      "metadata": {
        "colab": {
          "base_uri": "https://localhost:8080/",
          "height": 295
        },
        "id": "QwC-UeZ8HNve",
        "outputId": "d15314e3-55a4-4746-958f-d45b2ecf119b"
      },
      "execution_count": 44,
      "outputs": [
        {
          "output_type": "display_data",
          "data": {
            "text/plain": [
              "<Figure size 720x288 with 1 Axes>"
            ],
            "image/png": "[encoded data removed]"
          },
          "metadata": {
            "needs_background": "light"
          }
        }
      ]
    },
    {
      "cell_type": "markdown",
      "source": [
        "#### 6.4. Mean basket check"
      ],
      "metadata": {
        "id": "ctD9Mz-yGvHl"
      }
    },
    {
      "cell_type": "code",
      "source": [
        "df = X.groupby(['user_id', 'basket_id'])['sales_value'].sum().reset_index()\n",
        "df = df.groupby('user_id')['sales_value'].mean().reset_index()\n",
        "df.columns = ['user_id', 'mean_check']\n",
        "\n",
        "plt.figure(figsize=(10, 4))\n",
        "plt.title('Mean basket check')\n",
        "plt.xlabel('basket check')\n",
        "plt.hist(df['mean_check'], bins=50);"
      ],
      "metadata": {
        "colab": {
          "base_uri": "https://localhost:8080/",
          "height": 295
        },
        "id": "cnWnSsHeDiC8",
        "outputId": "6da9eb8f-a727-40ea-e881-8d33af438c2c"
      },
      "execution_count": 45,
      "outputs": [
        {
          "output_type": "display_data",
          "data": {
            "text/plain": [
              "<Figure size 720x288 with 1 Axes>"
            ],
            "image/png": "[encoded data removed]"
          },
          "metadata": {
            "needs_background": "light"
          }
        }
      ]
    },
    {
      "cell_type": "markdown",
      "source": [
        "#### 6.5. Number of stores where products were sold"
      ],
      "metadata": {
        "id": "Hplh_XykINLk"
      }
    },
    {
      "cell_type": "code",
      "source": [
        "df = X.groupby(['item_id'])['store_id'].nunique().reset_index()\n",
        "df.columns = ['item_id', 'stores']\n",
        "\n",
        "plt.figure(figsize=(10, 4))\n",
        "plt.title('Number of stores where products were sold')\n",
        "plt.xlabel('the number of stores')\n",
        "plt.hist(df['stores'], bins=50);"
      ],
      "metadata": {
        "colab": {
          "base_uri": "https://localhost:8080/",
          "height": 295
        },
        "id": "sxc9_F5i-02c",
        "outputId": "cfbdf599-351c-4c6e-b760-dc72b7a6e88e"
      },
      "execution_count": 46,
      "outputs": [
        {
          "output_type": "display_data",
          "data": {
            "text/plain": [
              "<Figure size 720x288 with 1 Axes>"
            ],
            "image/png": "[encoded data removed]"
          },
          "metadata": {
            "needs_background": "light"
          }
        }
      ]
    },
    {
      "cell_type": "markdown",
      "source": [
        "#### 6.6. The number of unique items bought by the client"
      ],
      "metadata": {
        "id": "CMcExk0tJHTw"
      }
    },
    {
      "cell_type": "code",
      "source": [
        "df = X.groupby(['user_id'])['item_id'].nunique().reset_index()\n",
        "df.columns = ['user_id', 'n_items']\n",
        "\n",
        "plt.figure(figsize=(10, 4))\n",
        "plt.title('The number of unique items bought by the client')\n",
        "plt.xlabel('the number of items')\n",
        "plt.hist(df['n_items'], bins=50);"
      ],
      "metadata": {
        "colab": {
          "base_uri": "https://localhost:8080/",
          "height": 295
        },
        "id": "wtUPb20U4X65",
        "outputId": "73bb70b8-ae9d-4030-c56e-99e9f87bd543"
      },
      "execution_count": 47,
      "outputs": [
        {
          "output_type": "display_data",
          "data": {
            "text/plain": [
              "<Figure size 720x288 with 1 Axes>"
            ],
            "image/png": "[encoded data removed]"
          },
          "metadata": {
            "needs_background": "light"
          }
        }
      ]
    },
    {
      "cell_type": "markdown",
      "source": [
        "#### 6.7. The number of client transactions"
      ],
      "metadata": {
        "id": "30XTQqDgJym1"
      }
    },
    {
      "cell_type": "code",
      "source": [
        "# кол-во транзакций клиента\n",
        "df = X.groupby(['user_id'])['item_id'].count().reset_index()\n",
        "df.columns = ['user_id', 'n_transactions']\n",
        "\n",
        "plt.figure(figsize=(10, 4))\n",
        "plt.title('The number of client transactions')\n",
        "plt.xlabel('the number of transactions')\n",
        "plt.hist(df['n_transactions'], bins=50);"
      ],
      "metadata": {
        "colab": {
          "base_uri": "https://localhost:8080/",
          "height": 295
        },
        "id": "y7iJ3QnyJuuO",
        "outputId": "908fbf98-4419-44c5-d5de-967e7f3b0a39"
      },
      "execution_count": 48,
      "outputs": [
        {
          "output_type": "display_data",
          "data": {
            "text/plain": [
              "<Figure size 720x288 with 1 Axes>"
            ],
            "image/png": "[encoded data removed]"
          },
          "metadata": {
            "needs_background": "light"
          }
        }
      ]
    },
    {
      "cell_type": "markdown",
      "source": [
        "#### 6.8. Mean / max / std of unique items in the client basket"
      ],
      "metadata": {
        "id": "A8q9oNdJLBca"
      }
    },
    {
      "cell_type": "code",
      "source": [
        "df = X.groupby(['user_id', 'basket_id'])['item_id'].nunique().reset_index()\n",
        "df1 = df.groupby('user_id')['item_id'].mean().reset_index()\n",
        "df1.columns = ['user_id', 'mean_n_items_basket']\n",
        "\n",
        "df2 = df.groupby('user_id')['item_id'].max().reset_index()\n",
        "df2.columns = ['user_id', 'max_n_items_basket']\n",
        "\n",
        "df3 = df.groupby('user_id')['item_id'].std().reset_index()\n",
        "df3.columns = ['user_id', 'std_n_items_basket']\n",
        "\n",
        "figure, axis = plt.subplots(3, 1, figsize=(10, 12))\n",
        "axis[0].hist(df1['mean_n_items_basket'], bins=15)\n",
        "axis[0].set_title('Mean number of unique items in the client basket')\n",
        "\n",
        "axis[1].hist(df2['max_n_items_basket'], bins=15);\n",
        "axis[1].set_title('Max number of unique items in the client basket')\n",
        "\n",
        "axis[2].hist(df3['std_n_items_basket'], bins=15);\n",
        "axis[2].set_title('Std of the number of unique items in the client basket');"
      ],
      "metadata": {
        "colab": {
          "base_uri": "https://localhost:8080/",
          "height": 716
        },
        "id": "q96oh3-_KVRV",
        "outputId": "1667e4b9-98d2-447f-e8cc-421455347f16"
      },
      "execution_count": 49,
      "outputs": [
        {
          "output_type": "display_data",
          "data": {
            "text/plain": [
              "<Figure size 720x864 with 3 Axes>"
            ],
            "image/png": "[encoded data removed]"
          },
          "metadata": {
            "needs_background": "light"
          }
        }
      ]
    },
    {
      "cell_type": "markdown",
      "source": [
        "#### 6.9. Mean / max / std of unique categories in the client basket"
      ],
      "metadata": {
        "id": "q3igjS6sRoTX"
      }
    },
    {
      "cell_type": "code",
      "source": [
        "X = X.merge(item_features[['item_id', 'commodity_desc']], on=['item_id'])\n",
        "df = X.groupby(['user_id', 'basket_id'])['commodity_desc'].nunique().reset_index()\n",
        "df1 = df.groupby('user_id')['commodity_desc'].mean().reset_index()\n",
        "df1.columns = ['user_id', 'mean_n_item_categories_basket']\n",
        "\n",
        "df2 = df.groupby('user_id')['commodity_desc'].max().reset_index()\n",
        "df2.columns = ['user_id', 'max_n_item_categories_basket']\n",
        "\n",
        "df3 = df.groupby('user_id')['commodity_desc'].std().reset_index()\n",
        "df3.columns = ['user_id', 'std_n_item_categories_basket']\n",
        "\n",
        "figure, axis = plt.subplots(3, 1, figsize=(10, 12))\n",
        "axis[0].hist(df1['mean_n_item_categories_basket'], bins=15)\n",
        "axis[0].set_title('Mean number of unique categories in the client basket')\n",
        "\n",
        "axis[1].hist(df2['max_n_item_categories_basket'], bins=15);\n",
        "axis[1].set_title('Max number of unique categories in the client basket')\n",
        "\n",
        "axis[2].hist(df3['std_n_item_categories_basket'], bins=15);\n",
        "axis[2].set_title('Std of the number of unique categories in the client basket');"
      ],
      "metadata": {
        "colab": {
          "base_uri": "https://localhost:8080/",
          "height": 716
        },
        "id": "tcFaVvRJPqL4",
        "outputId": "ada4b103-94bd-4d76-e70d-f4bce5081b70"
      },
      "execution_count": 50,
      "outputs": [
        {
          "output_type": "display_data",
          "data": {
            "text/plain": [
              "<Figure size 720x864 with 3 Axes>"
            ],
            "image/png": "[encoded data removed]"
          },
          "metadata": {
            "needs_background": "light"
          }
        }
      ]
    }
  ]
}